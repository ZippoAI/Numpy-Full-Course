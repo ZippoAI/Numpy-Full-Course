{
 "cells": [
  {
   "cell_type": "code",
   "execution_count": 1,
   "id": "2d1f56c4",
   "metadata": {},
   "outputs": [],
   "source": [
    "import numpy as np\n",
    "import matplotlib.pyplot as plt"
   ]
  },
  {
   "cell_type": "markdown",
   "id": "5861b622",
   "metadata": {},
   "source": [
    "## Advance operation with business examples: "
   ]
  },
  {
   "cell_type": "code",
   "execution_count": 7,
   "id": "10549fd2",
   "metadata": {},
   "outputs": [
    {
     "name": "stdout",
     "output_type": "stream",
     "text": [
      "==== Zomato sales analysis ==== \n",
      "Sales data shape:  (4, 5)\n",
      "Sample data for 1st 3 restaurant: \n",
      " [[   1    1   50  500   35]\n",
      " [   2    1   55  550   50]\n",
      " [   3    3   75 1500   65]\n",
      " [   4    1   50  500   45]]\n"
     ]
    }
   ],
   "source": [
    "sales_data = np.array([\n",
    "    [1, 1, 50, 500, 35], #Paradise Biriyani\n",
    "    [2, 1, 55, 550, 50], #Beijing Bites\n",
    "    [3, 3, 75, 1500, 65], #Pizza Hub\n",
    "    [4, 1, 50, 500, 45] #Burger Point\n",
    "])\n",
    "\n",
    "print(\"==== Zomato sales analysis ==== \")\n",
    "print('Sales data shape: ', sales_data.shape)\n",
    "\n",
    "print('Sample data for 1st 3 restaurant: \\n', sales_data[:,])"
   ]
  },
  {
   "cell_type": "code",
   "execution_count": 15,
   "id": "ef010522",
   "metadata": {},
   "outputs": [
    {
     "name": "stdout",
     "output_type": "stream",
     "text": [
      "[   6  230 3050  195]\n",
      "Minimum sales: \n",
      " [50 65 45]\n"
     ]
    }
   ],
   "source": [
    "# Total sales per year\n",
    "\n",
    "yearly_total = np.sum(sales_data[:, 1:], axis=0)\n",
    "print(yearly_total)\n",
    "\n",
    "# Minimum sales per restaurant \n",
    "min_sales = np.min(sales_data[1:, 2:], axis=1)\n",
    "print('Minimum sales: \\n', min_sales)"
   ]
  },
  {
   "cell_type": "code",
   "execution_count": null,
   "id": "b8f05549",
   "metadata": {},
   "outputs": [],
   "source": []
  }
 ],
 "metadata": {
  "kernelspec": {
   "display_name": "myenv",
   "language": "python",
   "name": "python3"
  },
  "language_info": {
   "codemirror_mode": {
    "name": "ipython",
    "version": 3
   },
   "file_extension": ".py",
   "mimetype": "text/x-python",
   "name": "python",
   "nbconvert_exporter": "python",
   "pygments_lexer": "ipython3",
   "version": "3.12.10"
  }
 },
 "nbformat": 4,
 "nbformat_minor": 5
}

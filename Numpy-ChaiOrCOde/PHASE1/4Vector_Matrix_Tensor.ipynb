{
 "cells": [
  {
   "cell_type": "markdown",
   "id": "9f3f3ecd",
   "metadata": {},
   "source": [
    "### Vector , Matrix and Tensor"
   ]
  },
  {
   "cell_type": "code",
   "execution_count": 1,
   "id": "510ad059",
   "metadata": {},
   "outputs": [],
   "source": [
    "import numpy as np"
   ]
  },
  {
   "cell_type": "markdown",
   "id": "23debb46",
   "metadata": {},
   "source": [
    "### Vector: \n",
    "normal arrays are called vector"
   ]
  },
  {
   "cell_type": "code",
   "execution_count": null,
   "id": "af042674",
   "metadata": {},
   "outputs": [],
   "source": [
    "vector_array = np.array([1,2,3])\n",
    "print('Vector: \\n', vector_array)"
   ]
  },
  {
   "cell_type": "markdown",
   "id": "e503f51f",
   "metadata": {},
   "source": [
    "### Matrix\n",
    "2D Arrays are called matrix"
   ]
  },
  {
   "cell_type": "code",
   "execution_count": null,
   "id": "1b81d948",
   "metadata": {},
   "outputs": [],
   "source": [
    "matrix = np.array([[1,2,3],\n",
    "                   [4,5,6]])\n",
    "\n",
    "\n",
    "print('Matrix: \\n', matrix)"
   ]
  },
  {
   "cell_type": "markdown",
   "id": "adb6462d",
   "metadata": {},
   "source": [
    "### Tensor\n",
    "A tensor in NumPy (or in general math/ML) can have any number of dimensions"
   ]
  },
  {
   "cell_type": "code",
   "execution_count": 4,
   "id": "d321bfe0",
   "metadata": {},
   "outputs": [
    {
     "name": "stdout",
     "output_type": "stream",
     "text": [
      "Tensor: \n",
      " [[[ 1  2  3]\n",
      "  [ 4  5  6]\n",
      "  [ 7  8  9]\n",
      "  [10 11 12]]]\n"
     ]
    }
   ],
   "source": [
    "tensor = np.array([[[1,2,3],[4,5,6],\n",
    "                    [7,8,9],[10,11,12]]])\n",
    "\n",
    "print(\"Tensor: \\n\", tensor)"
   ]
  }
 ],
 "metadata": {
  "kernelspec": {
   "display_name": "myenv",
   "language": "python",
   "name": "python3"
  },
  "language_info": {
   "codemirror_mode": {
    "name": "ipython",
    "version": 3
   },
   "file_extension": ".py",
   "mimetype": "text/x-python",
   "name": "python",
   "nbconvert_exporter": "python",
   "pygments_lexer": "ipython3",
   "version": "3.12.10"
  }
 },
 "nbformat": 4,
 "nbformat_minor": 5
}

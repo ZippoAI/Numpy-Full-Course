{
 "cells": [
  {
   "cell_type": "code",
   "execution_count": 2,
   "id": "0e9f4385",
   "metadata": {},
   "outputs": [],
   "source": [
    "import numpy as np"
   ]
  },
  {
   "cell_type": "markdown",
   "id": "47ad3083",
   "metadata": {},
   "source": [
    "### Array Reshaping\n"
   ]
  },
  {
   "cell_type": "code",
   "execution_count": null,
   "id": "2c052efd",
   "metadata": {},
   "outputs": [
    {
     "name": "stdout",
     "output_type": "stream",
     "text": [
      "original Array : [ 0  1  2  3  4  5  6  7  8  9 10 11]\n",
      "[[ 0  1  2  3]\n",
      " [ 4  5  6  7]\n",
      " [ 8  9 10 11]]\n"
     ]
    }
   ],
   "source": [
    "arr = np.arange(12)\n",
    "print(\"original Array :\", arr)\n",
    "\n"
   ]
  },
  {
   "cell_type": "markdown",
   "id": "9aec0980",
   "metadata": {},
   "source": [
    "#### Reshape"
   ]
  },
  {
   "cell_type": "code",
   "execution_count": null,
   "id": "47ec5c73",
   "metadata": {},
   "outputs": [],
   "source": [
    "arr = np.arange(12)\n",
    "reshaped = arr.reshape((3,4))\n",
    "print(\"Reshaped: \\n\", reshaped)"
   ]
  },
  {
   "cell_type": "markdown",
   "id": "bfd6fcda",
   "metadata": {},
   "source": [
    "#### Flatten"
   ]
  },
  {
   "cell_type": "code",
   "execution_count": null,
   "id": "a898cdd5",
   "metadata": {},
   "outputs": [],
   "source": [
    "arr = np.arange(12)\n",
    "reshaped = arr.reshape((3,4))\n",
    "print(\"Reshaped: \\n\", reshaped)\n",
    "print()\n",
    "flattened = reshaped.flatten()\n",
    "print('Flattened: \\n', flattened)"
   ]
  },
  {
   "cell_type": "markdown",
   "id": "51eb30b9",
   "metadata": {},
   "source": [
    "#### Ravel\n",
    "returns view, instead of copy"
   ]
  },
  {
   "cell_type": "code",
   "execution_count": 13,
   "id": "37d700d1",
   "metadata": {},
   "outputs": [
    {
     "name": "stdout",
     "output_type": "stream",
     "text": [
      "Raveled: \n",
      " [ 0  1  2  3  4  5  6  7  8  9 10 11]\n",
      "After modifying raveled:\n",
      "Raveled:\n",
      " [100   1   2   3   4   5   6   7   8   9  10  11]\n",
      "Reshaped:\n",
      " [[100   1   2]\n",
      " [  3   4   5]\n",
      " [  6   7   8]\n",
      " [  9  10  11]]\n",
      "Original arr:\n",
      " [100   1   2   3   4   5   6   7   8   9  10  11]\n"
     ]
    }
   ],
   "source": [
    "arr = np.arange(12)\n",
    "reshaped = arr.reshape(4,3)\n",
    "raveled = reshaped.ravel()\n",
    "print('Raveled: \\n', arr)\n",
    "\n",
    "raveled[0] = 100\n",
    "print(\"After modifying raveled:\")\n",
    "print(\"Raveled:\\n\", raveled)\n",
    "print(\"Reshaped:\\n\", reshaped)\n",
    "print(\"Original arr:\\n\", arr) "
   ]
  },
  {
   "cell_type": "markdown",
   "id": "ea906b66",
   "metadata": {},
   "source": [
    "#### Transpose\n",
    "In NumPy, transpose is used to flip or swap the axes of an array.\n",
    "\n",
    "In simple terms: it changes the rows into columns and columns into rows."
   ]
  },
  {
   "cell_type": "code",
   "execution_count": null,
   "id": "6edc234f",
   "metadata": {},
   "outputs": [],
   "source": [
    "arr = np.arange(12)\n",
    "reshaped = arr.reshape((6,2))\n",
    "print('Reshaped: \\n', reshaped)\n",
    "print()\n",
    "transpose = reshaped.T\n",
    "print('Transposed: \\n', transpose)"
   ]
  }
 ],
 "metadata": {
  "kernelspec": {
   "display_name": "myenv",
   "language": "python",
   "name": "python3"
  },
  "language_info": {
   "codemirror_mode": {
    "name": "ipython",
    "version": 3
   },
   "file_extension": ".py",
   "mimetype": "text/x-python",
   "name": "python",
   "nbconvert_exporter": "python",
   "pygments_lexer": "ipython3",
   "version": "3.12.10"
  }
 },
 "nbformat": 4,
 "nbformat_minor": 5
}

{
 "cells": [
  {
   "cell_type": "code",
   "execution_count": 1,
   "id": "2c1a1373",
   "metadata": {},
   "outputs": [],
   "source": [
    "import numpy as np"
   ]
  },
  {
   "cell_type": "code",
   "execution_count": null,
   "id": "107c2307",
   "metadata": {},
   "outputs": [
    {
     "name": "stdout",
     "output_type": "stream",
     "text": [
      "[ 5  6  7  8  9 10 11 12 13 14 15 16 17 18 19 20 21 22 23 24 25]\n"
     ]
    }
   ],
   "source": [
    "'''Exercise 1\n",
    "\n",
    "Create a 1D array of numbers from 5 to 25.'''\n",
    "\n",
    "normal = np.arange(5,26)\n",
    "\n",
    "print(normal)\n",
    "\n"
   ]
  },
  {
   "cell_type": "code",
   "execution_count": null,
   "id": "7f593519",
   "metadata": {},
   "outputs": [],
   "source": [
    "'''Exercise 2\n",
    "\n",
    "Make a 3x3 matrix filled with the number 9.'''\n",
    "\n",
    "threexthree = np.full((3,3),9)\n",
    "print(threexthree)"
   ]
  },
  {
   "cell_type": "code",
   "execution_count": 14,
   "id": "f72b2dbf",
   "metadata": {},
   "outputs": [
    {
     "name": "stdout",
     "output_type": "stream",
     "text": [
      "[16 72 69 52 76 98 59 38]\n"
     ]
    }
   ],
   "source": [
    "'''Exercise 3\n",
    "\n",
    "Generate a 1D array of 8 random integers between 10 and 100.'''\n",
    "\n",
    "dom1 = np.random.randint(10,101,size=8)\n",
    "print(dom1)"
   ]
  },
  {
   "cell_type": "code",
   "execution_count": null,
   "id": "a50bdb7f",
   "metadata": {},
   "outputs": [],
   "source": [
    "'''Exercise 4\n",
    "\n",
    "Create a 4x4 array of random numbers (between 0 and 1) and print its:'''\n",
    "\n",
    "random2 = np.random.rand(4,4)\n",
    "\n",
    "print(random2)\n",
    "\n",
    "print(\"Dimension: \", random2.ndim) \n",
    "print(\"Shape: \", random2.shape) \n",
    "print(\"Size: \", random2.size) \n",
    "print(\"Itemsize: \", random2.itemsize) \n"
   ]
  },
  {
   "cell_type": "code",
   "execution_count": null,
   "id": "bce321d1",
   "metadata": {},
   "outputs": [],
   "source": [
    "'''Exercise 5\n",
    "\n",
    "Create a linearly spaced array of 15 values between 0 and 10.'''\n",
    "\n",
    "linearly = np.linspace(0,10,15)\n",
    "print(linearly)\n",
    "\n"
   ]
  },
  {
   "cell_type": "code",
   "execution_count": null,
   "id": "d506d15a",
   "metadata": {},
   "outputs": [],
   "source": [
    "'''Exercise 6\n",
    "\n",
    "Create a 5x5 identity matrix using NumPy.'''\n",
    "\n",
    "identity = np.eye(5)\n",
    "print(identity)\n",
    "\n"
   ]
  },
  {
   "cell_type": "code",
   "execution_count": null,
   "id": "b0add941",
   "metadata": {},
   "outputs": [],
   "source": [
    "'''Exercise 7\n",
    "\n",
    "Generate a 2D array of shape (3, 4) with random integers between 1 and 50. Reshape it into (6, 2).'''\n",
    "\n",
    "x2D = np.random.randint(1,50,size=(3,4))\n",
    "print(x2D)\n",
    "reshaped = x2D.reshape(6,2)\n",
    "print(\"Reshaped: \\n\", reshaped)"
   ]
  },
  {
   "cell_type": "code",
   "execution_count": null,
   "id": "a1e86f90",
   "metadata": {},
   "outputs": [],
   "source": [
    "'''Exercise 8\n",
    "\n",
    "Create an array of numbers from 1 to 12, reshape it into a 3x4 matrix, then flatten it using both ravel() and flatten(). Change one element in the ravel() result and check if the original array changes.'''\n",
    "\n",
    "arr = np.arange(1,13)\n",
    "\n",
    "reshaped = arr.reshape(3,4)\n",
    "\n",
    "print('Reshaped: \\n', reshaped)\n",
    "\n",
    "flatten = reshaped.flatten()\n",
    "print('Flattened: \\n', flatten)\n",
    "\n",
    "\n",
    "ravel = reshaped.ravel()\n",
    "print('Ravel: \\n', ravel)\n",
    "\n",
    "print(reshaped)"
   ]
  },
  {
   "cell_type": "code",
   "execution_count": null,
   "id": "8c374c3d",
   "metadata": {},
   "outputs": [
    {
     "name": "stdout",
     "output_type": "stream",
     "text": [
      "[[0.6806518  0.5350495  0.12416187]\n",
      " [0.79232097 0.76514977 0.14705539]]\n",
      "Transposed: \n",
      " [[0.6806518  0.79232097]\n",
      " [0.5350495  0.76514977]\n",
      " [0.12416187 0.14705539]]\n"
     ]
    }
   ],
   "source": [
    "'''Exercise 9\n",
    "\n",
    "Make a 2x3 matrix and compute its transpose.'''\n",
    "\n",
    "twobythree = np.random.rand(2,3)\n",
    "\n",
    "print(twobythree)\n",
    "\n",
    "transpose = twobytwo.T\n",
    "print('Transposed: \\n', transpose)"
   ]
  }
 ],
 "metadata": {
  "kernelspec": {
   "display_name": "myenv",
   "language": "python",
   "name": "python3"
  },
  "language_info": {
   "codemirror_mode": {
    "name": "ipython",
    "version": 3
   },
   "file_extension": ".py",
   "mimetype": "text/x-python",
   "name": "python",
   "nbconvert_exporter": "python",
   "pygments_lexer": "ipython3",
   "version": "3.12.10"
  }
 },
 "nbformat": 4,
 "nbformat_minor": 5
}

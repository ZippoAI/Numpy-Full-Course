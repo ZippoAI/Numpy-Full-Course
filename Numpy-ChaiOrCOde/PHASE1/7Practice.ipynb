{
 "cells": [
  {
   "cell_type": "code",
   "execution_count": 1,
   "id": "2c1a1373",
   "metadata": {},
   "outputs": [],
   "source": [
    "import numpy as np"
   ]
  },
  {
   "cell_type": "code",
   "execution_count": null,
   "id": "107c2307",
   "metadata": {},
   "outputs": [
    {
     "name": "stdout",
     "output_type": "stream",
     "text": [
      "[ 5  6  7  8  9 10 11 12 13 14 15 16 17 18 19 20 21 22 23 24 25]\n"
     ]
    }
   ],
   "source": [
    "'''Exercise 1\n",
    "\n",
    "Create a 1D array of numbers from 5 to 25.'''\n",
    "\n",
    "normal = np.arange(5,26)\n",
    "\n",
    "print(normal)\n",
    "\n"
   ]
  },
  {
   "cell_type": "code",
   "execution_count": null,
   "id": "7f593519",
   "metadata": {},
   "outputs": [],
   "source": [
    "'''Exercise 2\n",
    "\n",
    "Make a 3x3 matrix filled with the number 9.'''\n",
    "\n",
    "threexthree = np.full((3,3),9)\n",
    "print(threexthree)"
   ]
  },
  {
   "cell_type": "code",
   "execution_count": 14,
   "id": "f72b2dbf",
   "metadata": {},
   "outputs": [
    {
     "name": "stdout",
     "output_type": "stream",
     "text": [
      "[16 72 69 52 76 98 59 38]\n"
     ]
    }
   ],
   "source": [
    "'''Exercise 3\n",
    "\n",
    "Generate a 1D array of 8 random integers between 10 and 100.'''\n",
    "\n",
    "dom1 = np.random.randint(10,101,size=8)\n",
    "print(dom1)"
   ]
  },
  {
   "cell_type": "code",
   "execution_count": null,
   "id": "a50bdb7f",
   "metadata": {},
   "outputs": [],
   "source": [
    "'''Exercise 4\n",
    "\n",
    "Create a 4x4 array of random numbers (between 0 and 1) and print its:'''\n",
    "\n",
    "random2 = np.random.rand(4,4)\n",
    "\n",
    "print(random2)\n",
    "\n",
    "print(\"Dimension: \", random2.ndim) \n",
    "print(\"Shape: \", random2.shape) \n",
    "print(\"Size: \", random2.size) \n",
    "print(\"Itemsize: \", random2.itemsize) \n"
   ]
  },
  {
   "cell_type": "code",
   "execution_count": 5,
   "id": "bce321d1",
   "metadata": {},
   "outputs": [
    {
     "name": "stdout",
     "output_type": "stream",
     "text": [
      "[ 0.          0.71428571  1.42857143  2.14285714  2.85714286  3.57142857\n",
      "  4.28571429  5.          5.71428571  6.42857143  7.14285714  7.85714286\n",
      "  8.57142857  9.28571429 10.        ]\n"
     ]
    }
   ],
   "source": [
    "'''Exercise 5\n",
    "\n",
    "Create a linearly spaced array of 15 values between 0 and 10.'''\n",
    "\n",
    "linearly = np.linspace(0,10,15)\n",
    "print(linearly)\n",
    "\n"
   ]
  },
  {
   "cell_type": "code",
   "execution_count": 6,
   "id": "d506d15a",
   "metadata": {},
   "outputs": [
    {
     "name": "stdout",
     "output_type": "stream",
     "text": [
      "[[1. 0. 0. 0. 0.]\n",
      " [0. 1. 0. 0. 0.]\n",
      " [0. 0. 1. 0. 0.]\n",
      " [0. 0. 0. 1. 0.]\n",
      " [0. 0. 0. 0. 1.]]\n"
     ]
    }
   ],
   "source": [
    "'''Exercise 6\n",
    "\n",
    "Create a 5x5 identity matrix using NumPy.'''\n",
    "\n",
    "identity = np.eye(5)\n",
    "print(identity)\n",
    "\n"
   ]
  },
  {
   "cell_type": "code",
   "execution_count": 7,
   "id": "b0add941",
   "metadata": {},
   "outputs": [
    {
     "name": "stdout",
     "output_type": "stream",
     "text": [
      "[[26 25 30 18]\n",
      " [41 47 14  6]\n",
      " [13 49  9 21]]\n",
      "Reshaped: \n",
      " [[26 25]\n",
      " [30 18]\n",
      " [41 47]\n",
      " [14  6]\n",
      " [13 49]\n",
      " [ 9 21]]\n"
     ]
    }
   ],
   "source": [
    "'''Exercise 7\n",
    "\n",
    "Generate a 2D array of shape (3, 4) with random integers between 1 and 50. Reshape it into (6, 2).'''\n",
    "\n",
    "x2D = np.random.randint(1,50,size=(3,4))\n",
    "print(x2D)\n",
    "reshaped = x2D.reshape(6,2)\n",
    "print(\"Reshaped: \\n\", reshaped)"
   ]
  },
  {
   "cell_type": "code",
   "execution_count": null,
   "id": "a1e86f90",
   "metadata": {},
   "outputs": [],
   "source": [
    "'''Exercise 8\n",
    "\n",
    "Create an array of numbers from 1 to 12, reshape it into a 3x4 matrix, then flatten it using both ravel() and flatten(). Change one element in the ravel() result and check if the original array changes.'''\n",
    "\n",
    "arr = np.arange(1,13)\n",
    "\n",
    "reshaped = arr.reshape(3,4)\n",
    "\n",
    "print('Reshaped: \\n', reshaped)\n",
    "\n",
    "flatten = reshaped.flatten()\n",
    "print('Flattened: \\n', flatten)\n",
    "\n",
    "\n",
    "ravel = reshaped.ravel()\n",
    "print('Ravel: \\n', ravel)\n",
    "\n",
    "print(reshaped)"
   ]
  },
  {
   "cell_type": "code",
   "execution_count": 9,
   "id": "8c374c3d",
   "metadata": {},
   "outputs": [
    {
     "name": "stdout",
     "output_type": "stream",
     "text": [
      "[[0.35045587 0.57190249 0.59788021]\n",
      " [0.98538766 0.6442225  0.5926651 ]]\n",
      "Transposed: \n",
      " [[0.35045587 0.98538766]\n",
      " [0.57190249 0.6442225 ]\n",
      " [0.59788021 0.5926651 ]]\n"
     ]
    }
   ],
   "source": [
    "'''Exercise 9\n",
    "\n",
    "Make a 2x3 matrix and compute its transpose.'''\n",
    "\n",
    "twobythree = np.random.rand(2,3)\n",
    "\n",
    "print(twobythree)\n",
    "\n",
    "transpose = twobythree.T\n",
    "print('Transposed: \\n', transpose)"
   ]
  },
  {
   "cell_type": "code",
   "execution_count": 4,
   "id": "609f4090",
   "metadata": {},
   "outputs": [
    {
     "name": "stdout",
     "output_type": "stream",
     "text": [
      "[[6 2]\n",
      " [9 2]\n",
      " [3 7]\n",
      " [5 4]\n",
      " [3 8]]\n"
     ]
    }
   ],
   "source": [
    "random_arr = np.random.randint(1,10,size=(5,2))\n",
    "\n",
    "print(random_arr)"
   ]
  }
 ],
 "metadata": {
  "kernelspec": {
   "display_name": "myenv",
   "language": "python",
   "name": "python3"
  },
  "language_info": {
   "codemirror_mode": {
    "name": "ipython",
    "version": 3
   },
   "file_extension": ".py",
   "mimetype": "text/x-python",
   "name": "python",
   "nbconvert_exporter": "python",
   "pygments_lexer": "ipython3",
   "version": "3.12.10"
  }
 },
 "nbformat": 4,
 "nbformat_minor": 5
}

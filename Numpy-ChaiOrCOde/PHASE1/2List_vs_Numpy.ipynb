{
 "cells": [
  {
   "cell_type": "code",
   "execution_count": 1,
   "id": "c1736b98",
   "metadata": {},
   "outputs": [],
   "source": [
    "import numpy as np\n"
   ]
  },
  {
   "cell_type": "markdown",
   "id": "b7ac7ae4",
   "metadata": {},
   "source": [
    "### List vs Numpy Array"
   ]
  },
  {
   "cell_type": "code",
   "execution_count": null,
   "id": "65347695",
   "metadata": {},
   "outputs": [],
   "source": [
    "py_list = [1,2,3]\n",
    "\n",
    "print('Python list multiplication: ', py_list * 2)  \n",
    "np_array = np.array([1,2,3])\n",
    "print('Numpy Array multiplication: ', np_array * 2) #element wise multiplication\n"
   ]
  },
  {
   "cell_type": "markdown",
   "id": "501f547c",
   "metadata": {},
   "source": [
    "#### Comparison using Time"
   ]
  },
  {
   "cell_type": "code",
   "execution_count": 11,
   "id": "bc81166b",
   "metadata": {},
   "outputs": [
    {
     "name": "stdout",
     "output_type": "stream",
     "text": [
      "Python list Time:  5.956056833267212\n",
      "Numpy Array Time:  0.450394868850708\n"
     ]
    }
   ],
   "source": [
    "import time\n",
    "start = time.time()\n",
    "\n",
    "py_list = [i*2 for i in range(100000000)]\n",
    "\n",
    "print('Python list Time: ', time.time()-start)\n",
    "\n",
    "start2 = time.time()\n",
    "np_array = np.arange(100000000 * 2)\n",
    "print('Numpy Array Time: ', time.time()-start2)\n",
    "\n"
   ]
  },
  {
   "cell_type": "code",
   "execution_count": null,
   "id": "5d0b1cf4",
   "metadata": {},
   "outputs": [],
   "source": []
  }
 ],
 "metadata": {
  "kernelspec": {
   "display_name": "myenv",
   "language": "python",
   "name": "python3"
  },
  "language_info": {
   "codemirror_mode": {
    "name": "ipython",
    "version": 3
   },
   "file_extension": ".py",
   "mimetype": "text/x-python",
   "name": "python",
   "nbconvert_exporter": "python",
   "pygments_lexer": "ipython3",
   "version": "3.12.10"
  }
 },
 "nbformat": 4,
 "nbformat_minor": 5
}

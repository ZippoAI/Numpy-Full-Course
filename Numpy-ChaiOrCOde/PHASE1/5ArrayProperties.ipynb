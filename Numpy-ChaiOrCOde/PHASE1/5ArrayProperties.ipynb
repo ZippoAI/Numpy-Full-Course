{
 "cells": [
  {
   "cell_type": "code",
   "execution_count": 6,
   "id": "6c052377",
   "metadata": {},
   "outputs": [],
   "source": [
    "import numpy as np"
   ]
  },
  {
   "cell_type": "markdown",
   "id": "670446d7",
   "metadata": {},
   "source": [
    "### Array Property"
   ]
  },
  {
   "cell_type": "markdown",
   "id": "c1f5640f",
   "metadata": {},
   "source": [
    "#### Shape"
   ]
  },
  {
   "cell_type": "code",
   "execution_count": null,
   "id": "6de246d8",
   "metadata": {},
   "outputs": [
    {
     "name": "stdout",
     "output_type": "stream",
     "text": [
      "Shape:  (2, 3)\n"
     ]
    }
   ],
   "source": [
    "arr = np.array([[1,2,3],\n",
    "               [4,5,6]])\n",
    "\n",
    "print(\"Shape: \", arr.shape ) #It will show you rows and columns "
   ]
  },
  {
   "cell_type": "markdown",
   "id": "a8c718a1",
   "metadata": {},
   "source": [
    "#### Dimension"
   ]
  },
  {
   "cell_type": "code",
   "execution_count": 11,
   "id": "392c3605",
   "metadata": {},
   "outputs": [
    {
     "name": "stdout",
     "output_type": "stream",
     "text": [
      "Dimension:  2\n",
      "Dimension:  3\n"
     ]
    }
   ],
   "source": [
    "arr = np.array([[1,2,3],\n",
    "               [4,5,6]])\n",
    "\n",
    "print(\"Dimension: \", arr.ndim ) #It will show you dimension\n",
    "\n",
    "#Example Two\n",
    "arr2 = np.array([[[1,2,3],[4,5,6],\n",
    "                  [7,8,9],[10,11,12]]])\n",
    "\n",
    "print('Dimension: ', arr2.ndim)"
   ]
  },
  {
   "cell_type": "markdown",
   "id": "9705548c",
   "metadata": {},
   "source": [
    "#### Size"
   ]
  },
  {
   "cell_type": "code",
   "execution_count": 13,
   "id": "11168225",
   "metadata": {},
   "outputs": [
    {
     "name": "stdout",
     "output_type": "stream",
     "text": [
      "The total number of elements in arr is: 6\n"
     ]
    }
   ],
   "source": [
    "arr = np.array([[1,2,3],\n",
    "               [4,5,6]])\n",
    "# The size property returns the total number of elements in the array\n",
    "print(\"The total number of elements in arr is:\", arr.size)"
   ]
  },
  {
   "cell_type": "markdown",
   "id": "21948401",
   "metadata": {},
   "source": [
    "#### itemsize"
   ]
  },
  {
   "cell_type": "code",
   "execution_count": 7,
   "id": "8ef49c26",
   "metadata": {},
   "outputs": [
    {
     "name": "stdout",
     "output_type": "stream",
     "text": [
      "Each element in arr occupies 8 bytes\n"
     ]
    }
   ],
   "source": [
    "arr = np.array([[1,2,3],\n",
    "               [4,5,6]])\n",
    "\n",
    "print('Each element in arr occupies', arr.itemsize, 'bytes')"
   ]
  },
  {
   "cell_type": "markdown",
   "id": "61c17db6",
   "metadata": {},
   "source": [
    "#### Data Types"
   ]
  },
  {
   "cell_type": "code",
   "execution_count": 20,
   "id": "05496e15",
   "metadata": {},
   "outputs": [
    {
     "name": "stdout",
     "output_type": "stream",
     "text": [
      "Data type of arr: int64\n",
      "Data type of arr_float_example: float64\n"
     ]
    }
   ],
   "source": [
    "# The dtype property shows the data type of the elements in the array\n",
    "arr = np.array([[1,2,3],\n",
    "               [4,5,6]])\n",
    "print(\"Data type of arr:\", arr.dtype)  # Example with arr\n",
    "\n",
    "# Example: creating an array with float data type\n",
    "arr_float_example = np.array([1, 2, 3], dtype=np.float64)\n",
    "print(\"Data type of arr_float_example:\", arr_float_example.dtype)  # Should print float64"
   ]
  }
 ],
 "metadata": {
  "kernelspec": {
   "display_name": "myenv",
   "language": "python",
   "name": "python3"
  },
  "language_info": {
   "codemirror_mode": {
    "name": "ipython",
    "version": 3
   },
   "file_extension": ".py",
   "mimetype": "text/x-python",
   "name": "python",
   "nbconvert_exporter": "python",
   "pygments_lexer": "ipython3",
   "version": "3.12.10"
  }
 },
 "nbformat": 4,
 "nbformat_minor": 5
}

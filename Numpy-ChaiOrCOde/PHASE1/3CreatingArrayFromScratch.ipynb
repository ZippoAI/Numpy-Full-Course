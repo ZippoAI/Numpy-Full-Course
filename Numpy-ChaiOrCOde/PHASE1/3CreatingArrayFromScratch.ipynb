{
 "cells": [
  {
   "cell_type": "code",
   "execution_count": 3,
   "id": "b888a54f",
   "metadata": {},
   "outputs": [],
   "source": [
    "import numpy as np"
   ]
  },
  {
   "cell_type": "markdown",
   "id": "78d68512",
   "metadata": {},
   "source": [
    "### Creating Array from scratch: \n"
   ]
  },
  {
   "cell_type": "markdown",
   "id": "2b3ea141",
   "metadata": {},
   "source": [
    "#### np.zeros()"
   ]
  },
  {
   "cell_type": "code",
   "execution_count": 8,
   "id": "03f6f901",
   "metadata": {},
   "outputs": [
    {
     "name": "stdout",
     "output_type": "stream",
     "text": [
      "3x3 array of zeros:\n",
      " [[0. 0. 0.]\n",
      " [0. 0. 0.]\n",
      " [0. 0. 0.]]\n"
     ]
    }
   ],
   "source": [
    "# Example of using np.zeros() to create a 3x3 array of zeros\n",
    "example_zeros = np.zeros((3, 3))\n",
    "print(\"3x3 array of zeros:\\n\", example_zeros)"
   ]
  },
  {
   "cell_type": "markdown",
   "id": "0e09459f",
   "metadata": {},
   "source": [
    "#### np.ones()"
   ]
  },
  {
   "cell_type": "code",
   "execution_count": null,
   "id": "262dea34",
   "metadata": {},
   "outputs": [],
   "source": [
    "# Create a 4x5 array of ones using np.ones()\n",
    "Ones = np.ones((4, 5))\n",
    "print(\"Ones array:\\n\", Ones)"
   ]
  },
  {
   "cell_type": "markdown",
   "id": "ad5e94e9",
   "metadata": {},
   "source": [
    "#### np.full()"
   ]
  },
  {
   "cell_type": "code",
   "execution_count": 12,
   "id": "21b1011a",
   "metadata": {},
   "outputs": [
    {
     "name": "stdout",
     "output_type": "stream",
     "text": [
      "3x4 array filled with 7:\n",
      " [[7 7 7 7]\n",
      " [7 7 7 7]\n",
      " [7 7 7 7]]\n"
     ]
    }
   ],
   "source": [
    "# Create a 3x4 array filled with the value 7 using np.full()\n",
    "full_array = np.full((3, 4), 7) # it takes three argument: row column and the value(the number you want to fill the array with)\n",
    "print(\"3x4 array filled with 7:\\n\", full_array)"
   ]
  },
  {
   "cell_type": "markdown",
   "id": "32400f79",
   "metadata": {},
   "source": [
    "#### np.arange()"
   ]
  },
  {
   "cell_type": "code",
   "execution_count": null,
   "id": "1a8711dd",
   "metadata": {},
   "outputs": [],
   "source": [
    "# Example of using np.arange() to create an array with values from 0 to 9\n",
    "arange_array = np.arange(10)\n",
    "print(\"Array with values from 0 to 9:\\n\", arange_array)"
   ]
  },
  {
   "cell_type": "markdown",
   "id": "17c442b1",
   "metadata": {},
   "source": [
    "#### np.linspace()\n"
   ]
  },
  {
   "cell_type": "code",
   "execution_count": 15,
   "id": "54c79084",
   "metadata": {},
   "outputs": [
    {
     "name": "stdout",
     "output_type": "stream",
     "text": [
      "Array of 5 evenly spaced values between 0 and 1:\n",
      " [0.   0.25 0.5  0.75 1.  ]\n"
     ]
    }
   ],
   "source": [
    "# Example of using np.linspace() to create an array of 5 evenly spaced values between 0 and 1\n",
    "linspace_array = np.linspace(0, 1, 5)\n",
    "print(\"Array of 5 evenly spaced values between 0 and 1:\\n\", linspace_array)"
   ]
  },
  {
   "cell_type": "markdown",
   "id": "13a3e6a0",
   "metadata": {},
   "source": [
    "#### np.random()"
   ]
  },
  {
   "cell_type": "code",
   "execution_count": 16,
   "id": "b2be8fee",
   "metadata": {},
   "outputs": [
    {
     "name": "stdout",
     "output_type": "stream",
     "text": [
      "2x3 array of random floats between 0 and 1:\n",
      " [[0.25009114 0.31678749 0.7042817 ]\n",
      " [0.36985299 0.14784346 0.05854951]]\n"
     ]
    }
   ],
   "source": [
    "# np.random is a module, not a function. To generate random numbers, use functions like np.random.rand().\n",
    "# Example: Create a 2x3 array of random floats between 0 and 1\n",
    "random_array = np.random.rand(2, 3)\n",
    "print(\"2x3 array of random floats between 0 and 1:\\n\", random_array)"
   ]
  },
  {
   "cell_type": "markdown",
   "id": "e72e29ea",
   "metadata": {},
   "source": [
    "#### np.sequence()"
   ]
  },
  {
   "cell_type": "code",
   "execution_count": 4,
   "id": "d5bb7b2d",
   "metadata": {},
   "outputs": [
    {
     "name": "stdout",
     "output_type": "stream",
     "text": [
      "Sequence array: \n",
      " [0 2 4 6 8]\n"
     ]
    }
   ],
   "source": [
    "sequence = np.arange(0,10, 2)\n",
    "\n",
    "print('Sequence array: \\n', sequence)"
   ]
  },
  {
   "cell_type": "markdown",
   "id": "e1ff3a9f",
   "metadata": {},
   "source": [
    "#### np.logspace()"
   ]
  },
  {
   "cell_type": "code",
   "execution_count": null,
   "id": "b9acef3d",
   "metadata": {},
   "outputs": [],
   "source": [
    "# Example of using np.logspace() to create an array of 5 values spaced evenly on a log scale between 10^1 and 10^3\n",
    "logspace_array = np.logspace(1, 3, 5)\n",
    "print(\"Array of 5 values spaced evenly on a log scale between 10^1 and 10^3:\\n\", logspace_array)"
   ]
  }
 ],
 "metadata": {
  "kernelspec": {
   "display_name": "myenv",
   "language": "python",
   "name": "python3"
  },
  "language_info": {
   "codemirror_mode": {
    "name": "ipython",
    "version": 3
   },
   "file_extension": ".py",
   "mimetype": "text/x-python",
   "name": "python",
   "nbconvert_exporter": "python",
   "pygments_lexer": "ipython3",
   "version": "3.12.10"
  }
 },
 "nbformat": 4,
 "nbformat_minor": 5
}

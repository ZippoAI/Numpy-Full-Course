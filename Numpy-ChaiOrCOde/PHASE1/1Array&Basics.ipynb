{
 "cells": [
  {
   "cell_type": "markdown",
   "id": "ea51a773",
   "metadata": {},
   "source": [
    "## Numpy Array and basics\n",
    "\n"
   ]
  },
  {
   "cell_type": "code",
   "execution_count": 2,
   "id": "3b4c9814",
   "metadata": {},
   "outputs": [],
   "source": [
    "import numpy as np"
   ]
  },
  {
   "cell_type": "markdown",
   "id": "0eedcf3d",
   "metadata": {},
   "source": [
    "## Creating Array from list"
   ]
  },
  {
   "cell_type": "code",
   "execution_count": 3,
   "id": "65bcc3cd",
   "metadata": {},
   "outputs": [
    {
     "name": "stdout",
     "output_type": "stream",
     "text": [
      "[1 2 3 4 5]\n"
     ]
    }
   ],
   "source": [
    "creating_array = np.array([1,2,3,4,5])\n",
    "print(creating_array)"
   ]
  },
  {
   "cell_type": "markdown",
   "id": "491d36e3",
   "metadata": {},
   "source": [
    "## Types of Array\n"
   ]
  },
  {
   "cell_type": "markdown",
   "id": "7f2ccef1",
   "metadata": {},
   "source": [
    "#### 1D Array\n",
    "A simple list of elements"
   ]
  },
  {
   "cell_type": "code",
   "execution_count": 4,
   "id": "e16fb76d",
   "metadata": {},
   "outputs": [
    {
     "name": "stdout",
     "output_type": "stream",
     "text": [
      "1D Array: \n",
      " [1 2 3 4 5]\n"
     ]
    }
   ],
   "source": [
    "arr_1d = np.array([1,2,3,4,5])\n",
    "print('1D Array: \\n', arr_1d)"
   ]
  },
  {
   "cell_type": "markdown",
   "id": "57b354cc",
   "metadata": {},
   "source": [
    "#### 2D Array\n",
    "An array of arrays like a table with rows and columns (matrix)"
   ]
  },
  {
   "cell_type": "code",
   "execution_count": null,
   "id": "aeaab836",
   "metadata": {},
   "outputs": [],
   "source": [
    "arr_2d = np.array([[1,2,3], [4,5,6]])\n",
    "\n",
    "print(\"2D Array: \\n\", arr_2d)\n",
    "\n",
    "\n",
    "print()\n",
    "#example 2:\n",
    "arr_2dEx = np.array([[1,2,3,4],\n",
    "                     [5,6,7,8],\n",
    "                     [9,10,11,12]])\n",
    "print(\"Eg 2: 2D Array : \\n\", arr_2dEx)"
   ]
  },
  {
   "cell_type": "markdown",
   "id": "e6e0cab7",
   "metadata": {},
   "source": [
    "#### 3-D Array\n",
    "Like a cube (multiple 2D arrays stacked together)"
   ]
  },
  {
   "cell_type": "code",
   "execution_count": null,
   "id": "4a735083",
   "metadata": {},
   "outputs": [],
   "source": [
    "arr_3D  = np.array([[[1,2,3], [4,5,6]],\n",
    "                  [[7,8,9], [10,11,12]]])\n",
    "\n",
    "print(\"3D Array: \\n\",arr_3D)   \n"
   ]
  },
  {
   "cell_type": "markdown",
   "id": "660befe9",
   "metadata": {},
   "source": [
    "### NumPy Arrays by Data Type"
   ]
  },
  {
   "cell_type": "markdown",
   "id": "dad9b040",
   "metadata": {},
   "source": [
    "#### 1. Integer Array\n",
    "\n",
    "Stores whole numbers.\n"
   ]
  },
  {
   "cell_type": "code",
   "execution_count": 22,
   "id": "a5f6be32",
   "metadata": {},
   "outputs": [
    {
     "name": "stdout",
     "output_type": "stream",
     "text": [
      "[1 2 3 4]\n",
      "int32\n"
     ]
    }
   ],
   "source": [
    "arr = np.array([1, 2, 3, 4], dtype='int32')\n",
    "print(arr)     # [1 2 3 4]\n",
    "print(arr.dtype)  # we can check data types using dtype\n"
   ]
  },
  {
   "cell_type": "markdown",
   "id": "064a5d05",
   "metadata": {},
   "source": [
    "#### 2. Float Array\n",
    "\n",
    " Stores decimal numbers."
   ]
  },
  {
   "cell_type": "code",
   "execution_count": null,
   "id": "14f8094d",
   "metadata": {},
   "outputs": [],
   "source": [
    "arr = np.array([1.5, 2.7, 3.9])\n",
    "print(arr)     # [1.5 2.7 3.9]\n",
    "print(arr.dtype)  # float64\n"
   ]
  },
  {
   "cell_type": "markdown",
   "id": "82d932a3",
   "metadata": {},
   "source": [
    "#### 3. String Array\n",
    "\n",
    "Stores text."
   ]
  },
  {
   "cell_type": "code",
   "execution_count": null,
   "id": "605b29c8",
   "metadata": {},
   "outputs": [],
   "source": [
    "arr = np.array(['apple', 'banana', 'cherry'])\n",
    "print(arr)       # ['apple' 'banana' 'cherry']\n",
    "print(arr.dtype) # <U6 (string)\n"
   ]
  },
  {
   "cell_type": "markdown",
   "id": "2262d746",
   "metadata": {},
   "source": [
    "#### 4. Boolean Array\n",
    "\n",
    "Stores True/False values."
   ]
  },
  {
   "cell_type": "code",
   "execution_count": null,
   "id": "9117074a",
   "metadata": {},
   "outputs": [],
   "source": [
    "arr = np.array([True, False, True])\n",
    "print(arr)       # [ True False  True]\n",
    "print(arr.dtype) # bool\n"
   ]
  }
 ],
 "metadata": {
  "kernelspec": {
   "display_name": "myenv",
   "language": "python",
   "name": "python3"
  },
  "language_info": {
   "codemirror_mode": {
    "name": "ipython",
    "version": 3
   },
   "file_extension": ".py",
   "mimetype": "text/x-python",
   "name": "python",
   "nbconvert_exporter": "python",
   "pygments_lexer": "ipython3",
   "version": "3.12.10"
  }
 },
 "nbformat": 4,
 "nbformat_minor": 5
}

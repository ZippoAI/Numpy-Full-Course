{
 "cells": [
  {
   "cell_type": "code",
   "execution_count": 1,
   "id": "91e40b90",
   "metadata": {},
   "outputs": [],
   "source": [
    "import numpy as np"
   ]
  },
  {
   "cell_type": "code",
   "execution_count": null,
   "id": "6fdd234d",
   "metadata": {},
   "outputs": [],
   "source": [
    "arr_1 = [1,2,3,4]"
   ]
  },
  {
   "cell_type": "code",
   "execution_count": 8,
   "id": "671d951b",
   "metadata": {},
   "outputs": [
    {
     "name": "stdout",
     "output_type": "stream",
     "text": [
      "Full\n",
      " [[6 6 6]\n",
      " [6 6 6]]\n"
     ]
    }
   ],
   "source": [
    "arr_full = np.full((2,3),6)\n",
    "\n",
    "print('Full\\n', arr_full)"
   ]
  },
  {
   "cell_type": "code",
   "execution_count": 11,
   "id": "c343b3ef",
   "metadata": {},
   "outputs": [
    {
     "name": "stdout",
     "output_type": "stream",
     "text": [
      "[[0.8210232  0.95960362 0.50152264 0.92203935]\n",
      " [0.35275033 0.54102545 0.07391483 0.5991116 ]\n",
      " [0.90583026 0.39993006 0.69801092 0.14317969]\n",
      " [0.38150046 0.30394245 0.62261581 0.37497767]\n",
      " [0.29689197 0.29601256 0.745798   0.67035183]]\n"
     ]
    }
   ],
   "source": [
    "random = np.random.random((5,4))\n",
    "\n",
    "print(random)"
   ]
  },
  {
   "cell_type": "code",
   "execution_count": 15,
   "id": "83557889",
   "metadata": {},
   "outputs": [
    {
     "name": "stdout",
     "output_type": "stream",
     "text": [
      "[2 4 6 8]\n"
     ]
    }
   ],
   "source": [
    "sequence = np.arange(2,10,2)\n",
    "\n",
    "print(sequence)"
   ]
  },
  {
   "cell_type": "markdown",
   "id": "f44d2d45",
   "metadata": {},
   "source": [
    "### Vector, Matrix, Tensor"
   ]
  },
  {
   "cell_type": "code",
   "execution_count": null,
   "id": "3da991b0",
   "metadata": {},
   "outputs": [],
   "source": [
    "vector = np.array([1,2,3])\n",
    "print(\"Vector: \", vector)\n",
    "\n",
    "matrix = np.array([[1,2,3]\n",
    "                   ,[4,5,6]])\n",
    "print()\n",
    "print(matrix)"
   ]
  },
  {
   "cell_type": "code",
   "execution_count": 8,
   "id": "25cc29e6",
   "metadata": {},
   "outputs": [
    {
     "name": "stdout",
     "output_type": "stream",
     "text": [
      "[[[[[ 1  2  3]\n",
      "    [ 4  5  6]]]\n",
      "\n",
      "\n",
      "  [[[ 6  7  8]\n",
      "    [ 9 10 11]]]]]\n"
     ]
    }
   ],
   "source": [
    "tensor = np.array([[[[[1,2,3],[4,5,6]]],[[[6,7,8],[9,10,11]]]]])\n",
    "\n",
    "print(tensor)"
   ]
  },
  {
   "cell_type": "markdown",
   "id": "d46b06e9",
   "metadata": {},
   "source": [
    "### Array Properties\n"
   ]
  },
  {
   "cell_type": "code",
   "execution_count": 13,
   "id": "20fce474",
   "metadata": {},
   "outputs": [
    {
     "name": "stdout",
     "output_type": "stream",
     "text": [
      "Shape:  (2, 3)\n",
      "Dimension:  2\n",
      "Size:  6\n",
      "Data type:  int64\n"
     ]
    }
   ],
   "source": [
    "arr = np.array([\n",
    "    [1,2,3],\n",
    "    [4,5,True]\n",
    "])\n",
    "\n",
    "print(\"Shape: \",arr.shape )\n",
    "print(\"Dimension: \",arr.ndim )\n",
    "print(\"Size: \",arr.size )\n",
    "print(\"Data type: \",arr.dtype )"
   ]
  }
 ],
 "metadata": {
  "kernelspec": {
   "display_name": "myenv",
   "language": "python",
   "name": "python3"
  },
  "language_info": {
   "codemirror_mode": {
    "name": "ipython",
    "version": 3
   },
   "file_extension": ".py",
   "mimetype": "text/x-python",
   "name": "python",
   "nbconvert_exporter": "python",
   "pygments_lexer": "ipython3",
   "version": "3.12.10"
  }
 },
 "nbformat": 4,
 "nbformat_minor": 5
}

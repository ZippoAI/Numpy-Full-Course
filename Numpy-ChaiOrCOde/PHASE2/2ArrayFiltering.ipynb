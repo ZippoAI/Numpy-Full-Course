{
 "cells": [
  {
   "cell_type": "code",
   "execution_count": 1,
   "id": "2c3e8098",
   "metadata": {},
   "outputs": [],
   "source": [
    "import numpy as np"
   ]
  },
  {
   "cell_type": "markdown",
   "id": "74eb575f",
   "metadata": {},
   "source": [
    "### Filter"
   ]
  },
  {
   "cell_type": "code",
   "execution_count": null,
   "id": "0eb447c6",
   "metadata": {},
   "outputs": [],
   "source": [
    "numbers = np.arange(1,11)\n",
    "\n",
    "print(numbers)\n",
    "\n",
    "Even_numbers = numbers[numbers%2==0] # Numpy allows us to write expression inside the [ ]\n",
    "print()\n",
    "print('Even Numbers:', Even_numbers)"
   ]
  },
  {
   "cell_type": "markdown",
   "id": "7f7e19f8",
   "metadata": {},
   "source": [
    "### Filter With Mask\n",
    "\n",
    "##### NOTES:\n",
    "- Masking is useful for filtering arrays without using loops.\n",
    "- The condition (numbers > 5) can be replaced with any other condition:\n",
    "    - numbers < 0    → get negative numbers\n",
    "    - numbers == 10  → get all 10s\n",
    "    - (numbers % 2 == 0) → get all even numbers\n",
    "- The mask is always the same shape as the original array. \n",
    "####\n"
   ]
  },
  {
   "cell_type": "code",
   "execution_count": 11,
   "id": "71d6b40c",
   "metadata": {},
   "outputs": [
    {
     "name": "stdout",
     "output_type": "stream",
     "text": [
      "Mask (True means condition satisfied): [False  True  True  True False  True]\n",
      "Numbers greater than 5: [ 7  6  8 10]\n"
     ]
    }
   ],
   "source": [
    "# Example array\n",
    "numbers = np.array([1, 7, 6, 8, 3, 10])\n",
    "\n",
    "# Step 1: Create a mask\n",
    "# A mask is a boolean array (True/False) created by applying a condition\n",
    "mask = numbers > 5  \n",
    "\n",
    "# Step 2: Print the mask itself\n",
    "# Shows which elements satisfy the condition (> 5)\n",
    "print(\"Mask (True means condition satisfied):\", mask)\n",
    "# Output: [False  True  True  True  False  True]\n",
    "\n",
    "# Step 3: Use the mask to filter values\n",
    "# Only elements where mask == True will be selected\n",
    "print(\"Numbers greater than 5:\", numbers[mask])\n",
    "# Output: [ 6  8 10 ]\n",
    "\n"
   ]
  },
  {
   "cell_type": "markdown",
   "id": "bf7dc57a",
   "metadata": {},
   "source": [
    "### Fancy indexing vs np.where()"
   ]
  },
  {
   "cell_type": "markdown",
   "id": "b3b04bfe",
   "metadata": {},
   "source": []
  }
 ],
 "metadata": {
  "kernelspec": {
   "display_name": "myenv",
   "language": "python",
   "name": "python3"
  },
  "language_info": {
   "codemirror_mode": {
    "name": "ipython",
    "version": 3
   },
   "file_extension": ".py",
   "mimetype": "text/x-python",
   "name": "python",
   "nbconvert_exporter": "python",
   "pygments_lexer": "ipython3",
   "version": "3.12.10"
  }
 },
 "nbformat": 4,
 "nbformat_minor": 5
}

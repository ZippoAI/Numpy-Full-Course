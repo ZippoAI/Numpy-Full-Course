{
 "cells": [
  {
   "cell_type": "code",
   "execution_count": 21,
   "id": "29de9b01",
   "metadata": {},
   "outputs": [],
   "source": [
    "import numpy as np"
   ]
  },
  {
   "cell_type": "markdown",
   "id": "5d268374",
   "metadata": {},
   "source": [
    "## Adding and Removing Data"
   ]
  },
  {
   "cell_type": "markdown",
   "id": "14279bba",
   "metadata": {},
   "source": [
    "### Array Combine using np.concatenate()"
   ]
  },
  {
   "cell_type": "code",
   "execution_count": 3,
   "id": "fb909839",
   "metadata": {},
   "outputs": [
    {
     "name": "stdout",
     "output_type": "stream",
     "text": [
      "[1 2 3 4 5 6]\n"
     ]
    }
   ],
   "source": [
    "arr1 = np.array([1,2,3])\n",
    "arr2 = np.array([4,5,6])\n",
    "\n",
    "combined = np.concatenate((arr1,arr2))\n",
    "\n",
    "print(combined)"
   ]
  },
  {
   "cell_type": "markdown",
   "id": "8101d1f3",
   "metadata": {},
   "source": [
    "### Array compatibility"
   ]
  },
  {
   "cell_type": "code",
   "execution_count": null,
   "id": "5e707349",
   "metadata": {},
   "outputs": [
    {
     "name": "stdout",
     "output_type": "stream",
     "text": [
      "Compatibility Shapes:  False\n"
     ]
    }
   ],
   "source": [
    "a = np.array([1,2,3])\n",
    "b = np.array([4,5,6])\n",
    "c = np.array([7,8,9])\n",
    "print(\"Compatibility Shapes: \", a.shape == b.shape)"
   ]
  },
  {
   "cell_type": "markdown",
   "id": "9639dcc0",
   "metadata": {},
   "source": [
    "### How to add a row to an existing array"
   ]
  },
  {
   "cell_type": "code",
   "execution_count": 19,
   "id": "ad250c28",
   "metadata": {},
   "outputs": [
    {
     "name": "stdout",
     "output_type": "stream",
     "text": [
      "Original: \n",
      " [[1 2]\n",
      " [3 4]]\n",
      "\n",
      "After adding new row: \n",
      " [[1 2]\n",
      " [3 4]\n",
      " [5 6]]\n"
     ]
    }
   ],
   "source": [
    "original = np.array([[1,2],\n",
    "                     [3,4]])\n",
    "\n",
    "new_row = np.array([5,6])\n",
    "\n",
    "with_new_row = np.vstack((original,new_row))\n",
    "print('Original: \\n', original)\n",
    "print()\n",
    "print('After adding new row: \\n', with_new_row)"
   ]
  },
  {
   "cell_type": "markdown",
   "id": "474aa087",
   "metadata": {},
   "source": [
    "### How to add a column to an existing array"
   ]
  },
  {
   "cell_type": "code",
   "execution_count": 20,
   "id": "ff53c0d3",
   "metadata": {},
   "outputs": [
    {
     "name": "stdout",
     "output_type": "stream",
     "text": [
      "Original: \n",
      " [[1 2]\n",
      " [3 4]]\n",
      "\n",
      "After adding new Column: \n",
      " [[1 2 5 7]\n",
      " [3 4 6 8]]\n"
     ]
    }
   ],
   "source": [
    "original = np.array([[1,2],\n",
    "                     [3,4]])\n",
    "\n",
    "new_col = np.array([[5 , 7],[6,8]])\n",
    "\n",
    "with_new_col = np.hstack((original,new_col))\n",
    "\n",
    "print('Original: \\n', original)\n",
    "print()\n",
    "print('After adding new Column: \\n', with_new_col)"
   ]
  },
  {
   "cell_type": "markdown",
   "id": "e288eeaf",
   "metadata": {},
   "source": [
    "### Deleting Data"
   ]
  },
  {
   "cell_type": "code",
   "execution_count": 23,
   "id": "58cc8df0",
   "metadata": {},
   "outputs": [
    {
     "name": "stdout",
     "output_type": "stream",
     "text": [
      "Array after deletion:  [1 2 4 5]\n"
     ]
    }
   ],
   "source": [
    "arr = np.array([1,2,3,4,5])\n",
    "deleted = np.delete(arr, 2)\n",
    "\n",
    "print('Array after deletion: ' ,deleted) # 3 is deleted"
   ]
  }
 ],
 "metadata": {
  "kernelspec": {
   "display_name": "myenv",
   "language": "python",
   "name": "python3"
  },
  "language_info": {
   "codemirror_mode": {
    "name": "ipython",
    "version": 3
   },
   "file_extension": ".py",
   "mimetype": "text/x-python",
   "name": "python",
   "nbconvert_exporter": "python",
   "pygments_lexer": "ipython3",
   "version": "3.12.10"
  }
 },
 "nbformat": 4,
 "nbformat_minor": 5
}

{
 "cells": [
  {
   "cell_type": "code",
   "execution_count": 1,
   "id": "b51f6452",
   "metadata": {},
   "outputs": [],
   "source": [
    "import numpy as np"
   ]
  },
  {
   "cell_type": "markdown",
   "id": "8fbc4c0e",
   "metadata": {},
   "source": [
    "## Numpy Array Operations "
   ]
  },
  {
   "cell_type": "markdown",
   "id": "f3138035",
   "metadata": {},
   "source": [
    "### Indexing and Slicing"
   ]
  },
  {
   "cell_type": "markdown",
   "id": "ee6fb350",
   "metadata": {},
   "source": [
    "### Normal Array Slicing"
   ]
  },
  {
   "cell_type": "code",
   "execution_count": null,
   "id": "9ca8ce7d",
   "metadata": {},
   "outputs": [],
   "source": [
    "arr = np.array([1,2,3,4,5,6,7,8,9,10])\n",
    "\n",
    "print(\"Basic Slicing: \", arr[2:7])\n",
    "\n",
    "print('With Step: ', arr[1:9:2])\n",
    "\n",
    "print('Reverse: ', arr[::-1])\n",
    "\n",
    "print('Negative: ', arr[-3])"
   ]
  },
  {
   "cell_type": "markdown",
   "id": "5a714428",
   "metadata": {},
   "source": [
    "### 2D Array Slicing"
   ]
  },
  {
   "cell_type": "code",
   "execution_count": 2,
   "id": "245c22eb",
   "metadata": {},
   "outputs": [
    {
     "name": "stdout",
     "output_type": "stream",
     "text": [
      "2D Array: \n",
      " [[1 2 3]\n",
      " [4 5 6]\n",
      " [7 8 9]]\n",
      "\n",
      "Specific Element: \n",
      " 6\n",
      "Entire Row: \n",
      " [4 5 6]\n",
      "Entire Column: \n",
      " [2 5 8]\n"
     ]
    }
   ],
   "source": [
    "arr_2d = np.array([[1,2,3],\n",
    "                   [4,5,6],\n",
    "                   [7,8,9],\n",
    "                   ])\n",
    "\n",
    "print('2D Array: \\n', arr_2d)\n",
    "print()\n",
    "print('Specific Element: \\n', arr_2d[1,2]) # row x column. here 1 is the 2nd row, and 2 is the third element of second row\n",
    "print('Entire Row: \\n', arr_2d[1])\n",
    "print('Entire Column: \\n', arr_2d[:,1]) # to get the entire second column"
   ]
  },
  {
   "cell_type": "markdown",
   "id": "f7abf826",
   "metadata": {},
   "source": [
    "## Sorting\n"
   ]
  },
  {
   "cell_type": "code",
   "execution_count": null,
   "id": "3c9ff563",
   "metadata": {},
   "outputs": [
    {
     "name": "stdout",
     "output_type": "stream",
     "text": [
      "Sorted Array:  [1 2 3 4 5 6 7 8]\n",
      "Sorted 2d Array by Column: \n",
      " [[1 1]\n",
      " [2 2]\n",
      " [3 3]]\n",
      "Sorted 2d Array by Row: \n",
      " [[1 3]\n",
      " [1 2]\n",
      " [2 3]]\n"
     ]
    }
   ],
   "source": [
    "unsorted = np.array([3,2,4,5,1,6,8,7])\n",
    "\n",
    "print('Sorted Array: ', np.sort(unsorted))\n",
    "\n",
    "arr_2d_unsorted = np.array([[3,1],\n",
    "                            [1,2],\n",
    "                            [2,3]])\n",
    "print('Sorted 2d Array by Column: \\n', np.sort(arr_2d_unsorted, axis=0)) # axis=0 means sort by column\n",
    "\n",
    "print('Sorted 2d Array by Row: \\n', np.sort(arr_2d_unsorted, axis=1)) # axis=0 means sort by row"
   ]
  },
  {
   "cell_type": "code",
   "execution_count": 11,
   "id": "86829488",
   "metadata": {},
   "outputs": [
    {
     "name": "stdout",
     "output_type": "stream",
     "text": [
      "[1 2 3]\n"
     ]
    }
   ],
   "source": [
    "arr = np.array([[1,2,3],\n",
    "                [4,5,6]])\n",
    "\n",
    "print(arr[0])"
   ]
  }
 ],
 "metadata": {
  "kernelspec": {
   "display_name": "myenv",
   "language": "python",
   "name": "python3"
  },
  "language_info": {
   "codemirror_mode": {
    "name": "ipython",
    "version": 3
   },
   "file_extension": ".py",
   "mimetype": "text/x-python",
   "name": "python",
   "nbconvert_exporter": "python",
   "pygments_lexer": "ipython3",
   "version": "3.12.10"
  }
 },
 "nbformat": 4,
 "nbformat_minor": 5
}
